{
 "cells": [
  {
   "cell_type": "markdown",
   "id": "numerical-interim",
   "metadata": {},
   "source": [
    "## ROI analysis for \n",
    "2 randomly every day between 4 and 47\n",
    "#### Parameters\n",
    "number of electrolysers:1 and 2.  number of canisters: 1-50\n",
    "###### The results from this analysis can be found at \n",
    "'ROIResults/Analysis[4].csv'"
   ]
  },
  {
   "cell_type": "code",
   "execution_count": 1,
   "id": "greenhouse-america",
   "metadata": {},
   "outputs": [],
   "source": [
    "'''\n",
    "import general python libraries\n",
    "'''\n",
    "import StationV5 as Station\n",
    "import numpy as np\n",
    "import matplotlib.pyplot as plt\n",
    "import random"
   ]
  },
  {
   "cell_type": "code",
   "execution_count": 2,
   "id": "stone-implementation",
   "metadata": {},
   "outputs": [],
   "source": [
    "'''\n",
    "import project specific libraries\n",
    "'''\n",
    "import Prices"
   ]
  },
  {
   "cell_type": "code",
   "execution_count": 3,
   "id": "satellite-brand",
   "metadata": {},
   "outputs": [],
   "source": [
    "station1 = Station.Station()"
   ]
  },
  {
   "cell_type": "code",
   "execution_count": 4,
   "id": "informational-nature",
   "metadata": {},
   "outputs": [],
   "source": [
    "hgv_per_day = 2\n",
    "dispenser_time_demand_array = np.zeros([365,hgv_per_day])\n",
    "\n",
    "for day in range(1,366):\n",
    "    my_list = []\n",
    "    for n in range(hgv_per_day):\n",
    "        rand = random.randint(4,47)\n",
    "        my_list.append(rand)\n",
    "    my_list.sort()\n",
    "    dispenser_time_demand_array[day-1] = my_list\n",
    "dispenser_time_demand_array = dispenser_time_demand_array.astype(int)\n",
    "\n",
    "dispenser_time_demand = dispenser_time_demand_array[0].tolist()"
   ]
  },
  {
   "cell_type": "code",
   "execution_count": 5,
   "id": "composite-request",
   "metadata": {},
   "outputs": [
    {
     "name": "stdout",
     "output_type": "stream",
     "text": [
      "0 0\n",
      "0 1\n",
      "0 2\n",
      "0 3\n",
      "0 4\n",
      "0 5\n",
      "0 6\n",
      "0 7\n",
      "0 8\n",
      "0 9\n",
      "0 10\n",
      "0 11\n",
      "0 12\n",
      "0 13\n",
      "0 14\n",
      "0 15\n",
      "0 16\n",
      "0 17\n",
      "0 18\n",
      "0 19\n",
      "0 20\n",
      "0 21\n",
      "0 22\n",
      "0 23\n",
      "0 24\n",
      "0 25\n",
      "0 26\n",
      "0 27\n",
      "0 28\n",
      "0 29\n",
      "1 0\n",
      "1 1\n",
      "1 2\n",
      "1 3\n",
      "1 4\n",
      "1 5\n",
      "1 6\n",
      "1 7\n",
      "1 8\n",
      "1 9\n",
      "1 10\n",
      "1 11\n",
      "1 12\n",
      "1 13\n",
      "1 14\n",
      "1 15\n",
      "1 16\n",
      "1 17\n",
      "1 18\n",
      "1 19\n",
      "1 20\n",
      "1 21\n",
      "1 22\n",
      "1 23\n",
      "1 24\n",
      "1 25\n",
      "1 26\n",
      "1 27\n",
      "1 28\n",
      "1 29\n"
     ]
    }
   ],
   "source": [
    "ROI_array = np.zeros([2,30])\n",
    "\n",
    "'''\n",
    "-------------------------------------------------------------------------------------------------------\n",
    "'''\n",
    "for i in range(len(ROI_array)):\n",
    "    for j in range(len(ROI_array[0])):\n",
    "        \n",
    "#         if i ==0:\n",
    "#             n_electrolysers = 1\n",
    "#         if i==1:\n",
    "#             n_electrolysers = 2\n",
    "#         if i==2:\n",
    "#             n_electrolysers = 16\n",
    "        n_electrolysers = i+1\n",
    "        n_canisters = j+1\n",
    "\n",
    "        electrolyser_capacity = n_electrolysers * 22.125\n",
    "        storage_capacity = n_canisters * 9.5\n",
    "\n",
    "\n",
    "\n",
    "        total_cost = np.zeros(365)\n",
    "        unsatisfaction = np.zeros(365)\n",
    "\n",
    "        '''\n",
    "        -------------------------------------------------------------------------------------------------------\n",
    "        '''\n",
    "        for n in range(365):\n",
    "            day = n+1\n",
    "\n",
    "            starting_storage_level = 0\n",
    "            elec_price = Prices.elec_prices_data(day)\n",
    "            \n",
    "            dispenser_time_demand = dispenser_time_demand_array[n].tolist()\n",
    "\n",
    "\n",
    "            demand, level, unsatisfied = station1.get_optimised_electrolyser_demand(elec_price, dispenser_time_demand, starting_storage_level,electrolyser_capacity,storage_capacity)\n",
    "\n",
    "            # convert from demand in kg to kWh\n",
    "            demand = demand*49.465\n",
    "            # convert electricity prices into pounds\n",
    "            elec_price = elec_price/100\n",
    "            # find the cost of the refill\n",
    "            cost = np.dot(demand,elec_price)\n",
    "\n",
    "            total_cost[day-1] = cost\n",
    "            unsatisfaction[day-1] = unsatisfied\n",
    "            \n",
    "            if unsatisfied >= 1:\n",
    "                break\n",
    "\n",
    "        avg_refill_cost = (np.average(total_cost))/(len(dispenser_time_demand))\n",
    "        if np.sum(unsatisfaction) > 0:\n",
    "            feasible = 0\n",
    "        else:\n",
    "            feasible = 1\n",
    "        '''\n",
    "        --------------------------------------------------------------------------------------------------------\n",
    "        '''\n",
    "\n",
    "        capital_cost = n_electrolysers*3200000 + n_canisters*5000\n",
    "        yearly_return = (169.36-avg_refill_cost)*len(dispenser_time_demand)*365\n",
    "\n",
    "        if feasible == 1:\n",
    "            ROI = (yearly_return/capital_cost)*100\n",
    "        else: \n",
    "            ROI = 0\n",
    "\n",
    "        \n",
    "        ROI_array[i][j] = ROI\n",
    "        \n",
    "        print(i,j)\n",
    "        '''\n",
    "        -------------------------------------------------------------------------------------------------------\n",
    "        '''\n"
   ]
  },
  {
   "cell_type": "code",
   "execution_count": 24,
   "id": "foreign-collect",
   "metadata": {},
   "outputs": [
    {
     "data": {
      "text/plain": [
       "Text(16, 2.6, '2 Vehicle Randomly per Day             Max ROI = 2.2607%')"
      ]
     },
     "execution_count": 24,
     "metadata": {},
     "output_type": "execute_result"
    },
    {
     "data": {
      "image/png": "[encoded data removed]",
      "text/plain": [
       "<Figure size 1800x792 with 2 Axes>"
      ]
     },
     "metadata": {
      "needs_background": "light"
     },
     "output_type": "display_data"
    }
   ],
   "source": [
    "n = [n for n in range(1,len(ROI_array[0])+1)]\n",
    "# n = [n for n in range(1,43)]\n",
    "\n",
    "fig, ax = plt.subplots(nrows=2,figsize=[25,11])\n",
    "\n",
    "my_xticks = [n for n in range(1,len(ROI_array[0]),3)]\n",
    "my_xtick_labels = [n for n in range(1,len(ROI_array[0]),3)]\n",
    "ax[0].set_xticks(my_xticks)\n",
    "ax[0].set_xticklabels(my_xtick_labels)\n",
    "\n",
    "ax[0].plot(n,ROI_array[0],label='1 Electrolyser')\n",
    "ax[0].plot(n,ROI_array[1],label='2 Electrolysers')\n",
    "# ax.plot(n,ROI_array[2],label='16 Electrolysers')\n",
    "\n",
    "ax[0].set_ylabel('ROI (%)')\n",
    "ax[0].set_xlim(0)\n",
    "ax[0].set_ylim(0)\n",
    "ax[0].set_xlabel('Number of Canisters')\n",
    "ax[0].legend()\n",
    "ax[0].grid(lw=0.2)\n",
    "\n",
    "if hgv_per_day > 1:\n",
    "    for n in range(hgv_per_day-1):\n",
    "        if n==0:\n",
    "            x = dispenser_time_demand_array[:,n]\n",
    "            y = dispenser_time_demand_array[:,n+1]\n",
    "            temp = np.append(x,y)\n",
    "        else:\n",
    "            x = dispenser_time_demand_array[:,n]\n",
    "            temp = np.append(temp,x)\n",
    "else:\n",
    "    temp = dispenser_time_demand_array[:,0]\n",
    "\n",
    "ax[1].hist(temp, bins=[n for n in range(4,48)],width=0.9, align='right')\n",
    "my_xticks = [n for n in range(1,48,1)]\n",
    "my_xtick_labels = ['','01:00','','02:00','','03:00','','04:00','','05:00','','06:00','','07:00','','08:00','','09:00','','10:00','','11:00','','12:00','','13:00','','14:00','','15:00','','16:00','','17:00','','18:00','','19:00','','20:00','','21:00','','22:00','','23:00','']\n",
    "ax[1].set_xticks(my_xticks)\n",
    "ax[1].set_xticklabels(my_xtick_labels)\n",
    "\n",
    "ax[0].text(16,2.6,(str(hgv_per_day)+' Vehicle Randomly per Day             Max ROI = '+str(round(np.max(ROI_array),4))+'%'),fontsize=25,\n",
    "     horizontalalignment='center',\n",
    "     verticalalignment='center')"
   ]
  },
  {
   "cell_type": "code",
   "execution_count": 22,
   "id": "optimum-brooks",
   "metadata": {},
   "outputs": [],
   "source": [
    "# import pandas as pd\n",
    "\n",
    "# df = pd.DataFrame(ROI_array)\n",
    "\n",
    "# df.to_csv('ROIResults/Analysis[5].csv')"
   ]
  },
  {
   "cell_type": "code",
   "execution_count": null,
   "id": "swiss-affiliate",
   "metadata": {},
   "outputs": [],
   "source": []
  },
  {
   "cell_type": "code",
   "execution_count": null,
   "id": "divine-reminder",
   "metadata": {},
   "outputs": [],
   "source": []
  }
 ],
 "metadata": {
  "kernelspec": {
   "display_name": "Python 3",
   "language": "python",
   "name": "python3"
  },
  "language_info": {
   "codemirror_mode": {
    "name": "ipython",
    "version": 3
   },
   "file_extension": ".py",
   "mimetype": "text/x-python",
   "name": "python",
   "nbconvert_exporter": "python",
   "pygments_lexer": "ipython3",
   "version": "3.7.0"
  }
 },
 "nbformat": 4,
 "nbformat_minor": 5
}
