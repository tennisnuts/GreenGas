{
 "cells": [
  {
   "cell_type": "code",
   "execution_count": 1,
   "id": "accessory-penalty",
   "metadata": {},
   "outputs": [],
   "source": [
    "# Import general python libraries\n",
    "import numpy as np\n",
    "import matplotlib.pyplot as plt\n",
    "import pandas as pd\n"
   ]
  },
  {
   "cell_type": "code",
   "execution_count": 6,
   "id": "ecological-genre",
   "metadata": {},
   "outputs": [],
   "source": [
    "df = pd.read_csv('COST_Results_redo.csv', usecols=[1])"
   ]
  },
  {
   "cell_type": "code",
   "execution_count": 12,
   "id": "variable-stream",
   "metadata": {},
   "outputs": [
    {
     "data": {
      "text/plain": [
       "array([[1545.99477591],\n",
       "       [ 821.82273354],\n",
       "       [ 592.15673309],\n",
       "       [ 471.21432278],\n",
       "       [ 396.56113701],\n",
       "       [ 347.80690325],\n",
       "       [ 313.80417918],\n",
       "       [ 288.29161071],\n",
       "       [ 268.65428652],\n",
       "       [ 253.20256239],\n",
       "       [ 240.91045276],\n",
       "       [ 230.32235428],\n",
       "       [ 222.3797909 ],\n",
       "       [ 218.22944958],\n",
       "       [ 210.1149202 ],\n",
       "       [ 204.91348068],\n",
       "       [ 200.85545557],\n",
       "       [ 199.55414283],\n",
       "       [ 195.1002776 ],\n",
       "       [ 194.66222146],\n",
       "       [ 193.17255263],\n",
       "       [ 191.39810551],\n",
       "       [ 190.49256909],\n",
       "       [ 189.45116215],\n",
       "       [ 189.2070749 ],\n",
       "       [ 188.80729434],\n",
       "       [ 189.34126842],\n",
       "       [ 192.52831367],\n",
       "       [ 208.82403656],\n",
       "       [ 206.42875562],\n",
       "       [ 203.7903018 ],\n",
       "       [ 201.49632488],\n",
       "       [ 199.48539255],\n",
       "       [ 197.48796727],\n",
       "       [ 195.82662038],\n",
       "       [ 195.21195719],\n",
       "       [ 192.66274845],\n",
       "       [ 192.41611428],\n",
       "       [ 190.36158785],\n",
       "       [ 190.45468206],\n",
       "       [ 189.53768203],\n",
       "       [ 188.91473749],\n",
       "       [ 208.60433363],\n",
       "       [ 187.48088456],\n",
       "       [ 191.4622676 ],\n",
       "       [ 203.41299419],\n",
       "       [ 186.12064455],\n",
       "       [ 200.418573  ],\n",
       "       [ 198.90667523],\n",
       "       [ 197.59950957],\n",
       "       [ 196.56308527],\n",
       "       [ 195.38896637],\n",
       "       [ 194.33571122],\n",
       "       [ 193.26277323],\n",
       "       [ 192.08062108],\n",
       "       [ 191.30122755],\n",
       "       [ 190.59030537],\n",
       "       [ 189.75170316],\n",
       "       [ 189.03896896],\n",
       "       [ 189.11455497],\n",
       "       [ 187.94844993],\n",
       "       [ 188.05079925],\n",
       "       [ 187.00271045],\n",
       "       [ 187.08214501],\n",
       "       [ 186.70761634],\n",
       "       [ 186.36535053],\n",
       "       [ 186.17014893],\n",
       "       [ 185.98038323],\n",
       "       [ 185.44020651],\n",
       "       [ 185.12333644],\n",
       "       [ 184.90181237],\n",
       "       [ 184.81775502],\n",
       "       [ 192.10548113],\n",
       "       [ 184.15959118],\n",
       "       [ 190.67714554],\n",
       "       [ 190.10492352],\n",
       "       [ 189.51611174],\n",
       "       [ 189.53205422],\n",
       "       [ 188.60966355],\n",
       "       [ 188.48859815],\n",
       "       [ 188.16258241],\n",
       "       [ 187.85884973],\n",
       "       [ 187.15483444],\n",
       "       [ 187.02828758],\n",
       "       [ 186.87845242],\n",
       "       [ 187.70198511],\n",
       "       [ 186.31043462],\n",
       "       [ 185.95671359],\n",
       "       [ 185.77159884],\n",
       "       [ 192.52535548],\n",
       "       [ 191.99531855],\n",
       "       [ 191.40473473],\n",
       "       [ 190.86538654],\n",
       "       [ 190.8492485 ],\n",
       "       [ 189.94863808],\n",
       "       [ 189.48051564],\n",
       "       [ 189.07868747],\n",
       "       [ 188.68733867],\n",
       "       [ 189.        ],\n",
       "       [ 189.        ]])"
      ]
     },
     "execution_count": 12,
     "metadata": {},
     "output_type": "execute_result"
    }
   ],
   "source": [
    "df = pd.read_csv('COST_Results_redo.csv', usecols=[1])\n",
    "df = df.values\n",
    "df[98] = 189\n",
    "df[99] = 189\n",
    "df"
   ]
  },
  {
   "cell_type": "code",
   "execution_count": 35,
   "id": "young-permit",
   "metadata": {},
   "outputs": [
    {
     "data": {
      "text/plain": [
       "Text(0, 0.5, 'Hydrogen Price \\n (£/kg)')"
      ]
     },
     "execution_count": 35,
     "metadata": {},
     "output_type": "execute_result"
    },
    {
     "data": {
      "image/png": "[encoded data removed]",
      "text/plain": [
       "<Figure size 1080x360 with 1 Axes>"
      ]
     },
     "metadata": {
      "needs_background": "light"
     },
     "output_type": "display_data"
    }
   ],
   "source": [
    "x = [n for n in range(1,101)]\n",
    "fig, ax = plt.subplots(figsize=[15,5])\n",
    "\n",
    "ax.plot(x, df/32.09, color='teal')\n",
    "ax.set_ylim(0)\n",
    "ax.set_xlim(0)\n",
    "ax.grid(lw=0.2)\n",
    "my_xticks = [1,10,20,30,40,50,60,70,80,90,100]\n",
    "ax.set_xticks(my_xticks)\n",
    "ax.set_xlabel('Number of HGV\\'s per day', fontsize=14)\n",
    "ax.set_ylabel('Hydrogen Price \\n (£/kg)', fontsize=14, rotation=0, labelpad=70)"
   ]
  },
  {
   "cell_type": "code",
   "execution_count": 29,
   "id": "silver-flavor",
   "metadata": {},
   "outputs": [
    {
     "data": {
      "text/plain": [
       "73"
      ]
     },
     "execution_count": 29,
     "metadata": {},
     "output_type": "execute_result"
    }
   ],
   "source": [
    "np.argmin(df)"
   ]
  },
  {
   "cell_type": "code",
   "execution_count": 30,
   "id": "broad-consciousness",
   "metadata": {},
   "outputs": [
    {
     "data": {
      "text/plain": [
       "5.738846718135569"
      ]
     },
     "execution_count": 30,
     "metadata": {},
     "output_type": "execute_result"
    }
   ],
   "source": [
    "np.min(df/32.09)"
   ]
  },
  {
   "cell_type": "code",
   "execution_count": null,
   "id": "entire-visibility",
   "metadata": {},
   "outputs": [],
   "source": []
  }
 ],
 "metadata": {
  "kernelspec": {
   "display_name": "Python 3",
   "language": "python",
   "name": "python3"
  },
  "language_info": {
   "codemirror_mode": {
    "name": "ipython",
    "version": 3
   },
   "file_extension": ".py",
   "mimetype": "text/x-python",
   "name": "python",
   "nbconvert_exporter": "python",
   "pygments_lexer": "ipython3",
   "version": "3.7.0"
  }
 },
 "nbformat": 4,
 "nbformat_minor": 5
}
