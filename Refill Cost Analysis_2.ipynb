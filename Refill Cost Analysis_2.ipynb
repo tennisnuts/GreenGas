{
 "cells": [
  {
   "cell_type": "code",
   "execution_count": 1,
   "id": "accepting-garden",
   "metadata": {},
   "outputs": [],
   "source": [
    "import numpy as np \n",
    "import pandas as pd\n",
    "import matplotlib.pyplot as plt"
   ]
  },
  {
   "cell_type": "code",
   "execution_count": 2,
   "id": "future-croatia",
   "metadata": {},
   "outputs": [],
   "source": [
    "import StationV6 as Station\n",
    "import Prices"
   ]
  },
  {
   "cell_type": "code",
   "execution_count": 3,
   "id": "similar-carbon",
   "metadata": {},
   "outputs": [],
   "source": [
    "station1 = Station.Station()"
   ]
  },
  {
   "cell_type": "code",
   "execution_count": 6,
   "id": "mediterranean-passport",
   "metadata": {},
   "outputs": [
    {
     "name": "stdout",
     "output_type": "stream",
     "text": [
      "4\n",
      "5\n",
      "6\n",
      "7\n",
      "8\n",
      "9\n",
      "10\n",
      "11\n",
      "12\n",
      "13\n",
      "14\n",
      "15\n",
      "16\n",
      "17\n",
      "18\n",
      "19\n",
      "20\n",
      "21\n",
      "22\n",
      "23\n",
      "24\n",
      "25\n",
      "26\n",
      "27\n",
      "28\n",
      "29\n",
      "30\n",
      "31\n",
      "32\n",
      "33\n",
      "34\n",
      "35\n",
      "36\n",
      "37\n",
      "38\n",
      "39\n",
      "40\n",
      "41\n",
      "42\n",
      "43\n",
      "44\n",
      "45\n",
      "46\n",
      "47\n"
     ]
    }
   ],
   "source": [
    "dispenser_time_demand = []\n",
    "starting_storage_level = 0\n",
    "electrolyser_capacity = 22.125*1\n",
    "storage_capacity = 9.5*4\n",
    "\n",
    "arrival_time_cost = np.zeros(48)\n",
    "for i in range(4,48):\n",
    "    print(i)\n",
    "    dispenser_time_demand = [i]\n",
    "    '''\n",
    "    Yearly simulation\n",
    "    '''\n",
    "    daily_refill_avg = np.zeros(365)\n",
    "    for n in range(365):\n",
    "\n",
    "        day = n+1\n",
    "\n",
    "        elec_price = Prices.elec_prices_data(day)\n",
    "\n",
    "        demand, level, unsatisfied = station1.get_optimised_electrolyser_demand(elec_price, dispenser_time_demand, starting_storage_level,electrolyser_capacity,storage_capacity)\n",
    "\n",
    "        if unsatisfied > 0:\n",
    "            print('Unsatisfied')\n",
    "\n",
    "        elec_demand = demand * 51.38 # kWh\n",
    "\n",
    "        refill_cost = np.dot(elec_demand, elec_price/100)\n",
    "\n",
    "        avg_refill_cost = refill_cost/len(dispenser_time_demand)\n",
    "\n",
    "        daily_refill_avg[n] = avg_refill_cost\n",
    "        \n",
    "    arrival_time_cost[i] = np.average(daily_refill_avg)\n"
   ]
  },
  {
   "cell_type": "code",
   "execution_count": 8,
   "id": "distinct-computer",
   "metadata": {},
   "outputs": [
    {
     "data": {
      "text/plain": [
       "[<matplotlib.lines.Line2D at 0x7fa06dfa04e0>]"
      ]
     },
     "execution_count": 8,
     "metadata": {},
     "output_type": "execute_result"
    },
    {
     "data": {
      "image/png": "[encoded data removed]",
      "text/plain": [
       "<Figure size 1080x360 with 1 Axes>"
      ]
     },
     "metadata": {
      "needs_background": "light"
     },
     "output_type": "display_data"
    }
   ],
   "source": [
    "fig, ax = plt.subplots(figsize=[15,5])\n",
    "\n",
    "ax.plot(arrival_time_cost/400)"
   ]
  },
  {
   "cell_type": "code",
   "execution_count": null,
   "id": "unlimited-survey",
   "metadata": {},
   "outputs": [],
   "source": []
  }
 ],
 "metadata": {
  "kernelspec": {
   "display_name": "Python 3",
   "language": "python",
   "name": "python3"
  },
  "language_info": {
   "codemirror_mode": {
    "name": "ipython",
    "version": 3
   },
   "file_extension": ".py",
   "mimetype": "text/x-python",
   "name": "python",
   "nbconvert_exporter": "python",
   "pygments_lexer": "ipython3",
   "version": "3.7.0"
  }
 },
 "nbformat": 4,
 "nbformat_minor": 5
}
