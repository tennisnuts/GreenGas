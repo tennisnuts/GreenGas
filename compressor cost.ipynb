{
 "cells": [
  {
   "cell_type": "code",
   "execution_count": 12,
   "id": "imposed-antenna",
   "metadata": {},
   "outputs": [],
   "source": [
    "import sys\n",
    "import matplotlib.pyplot as plt\n",
    "import numpy as np"
   ]
  },
  {
   "cell_type": "code",
   "execution_count": 29,
   "id": "hollow-waters",
   "metadata": {},
   "outputs": [
    {
     "data": {
      "text/plain": [
       "(0.0, 1058532.1344089054)"
      ]
     },
     "execution_count": 29,
     "metadata": {},
     "output_type": "execute_result"
    },
    {
     "data": {
      "image/png": "[encoded data removed]",
      "text/plain": [
       "<Figure size 432x288 with 1 Axes>"
      ]
     },
     "metadata": {
      "needs_background": "light"
     },
     "output_type": "display_data"
    }
   ],
   "source": [
    "x = [100,200,300]\n",
    "y = [190000, 329000, 453000]\n",
    "\n",
    "diff1 = y[1]-y[0]\n",
    "diff2 = y[2]-y[1]\n",
    "ratio = diff2/diff1\n",
    "\n",
    "x = [n for n in range(100,1100,100)]\n",
    "y = [190000]\n",
    "for n in range(len(x)-1):\n",
    "    y = np.append(y,y[-1]+diff1*ratio**(n))\n",
    "\n",
    "fig, ax = plt.subplots()\n",
    "\n",
    "ax.plot(x, y)\n",
    "ax.set_ylim(0)"
   ]
  },
  {
   "cell_type": "code",
   "execution_count": 30,
   "id": "swiss-colombia",
   "metadata": {},
   "outputs": [
    {
     "data": {
      "text/plain": [
       "1017173.4613418147"
      ]
     },
     "execution_count": 30,
     "metadata": {},
     "output_type": "execute_result"
    }
   ],
   "source": [
    "y[-1]"
   ]
  },
  {
   "cell_type": "code",
   "execution_count": 25,
   "id": "indoor-husband",
   "metadata": {},
   "outputs": [],
   "source": [
    "y = []\n",
    "y = np.append(y,10)\n",
    "y = np.append(y,20)\n",
    "y = np.append(y,30)"
   ]
  },
  {
   "cell_type": "code",
   "execution_count": 27,
   "id": "experimental-steps",
   "metadata": {},
   "outputs": [
    {
     "data": {
      "text/plain": [
       "30.0"
      ]
     },
     "execution_count": 27,
     "metadata": {},
     "output_type": "execute_result"
    }
   ],
   "source": [
    "y[-1]"
   ]
  },
  {
   "cell_type": "code",
   "execution_count": null,
   "id": "organic-franchise",
   "metadata": {},
   "outputs": [],
   "source": []
  }
 ],
 "metadata": {
  "kernelspec": {
   "display_name": "Python 3",
   "language": "python",
   "name": "python3"
  },
  "language_info": {
   "codemirror_mode": {
    "name": "ipython",
    "version": 3
   },
   "file_extension": ".py",
   "mimetype": "text/x-python",
   "name": "python",
   "nbconvert_exporter": "python",
   "pygments_lexer": "ipython3",
   "version": "3.7.0"
  }
 },
 "nbformat": 4,
 "nbformat_minor": 5
}
